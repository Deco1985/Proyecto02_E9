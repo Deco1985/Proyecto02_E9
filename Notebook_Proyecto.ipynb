{
 "cells": [
  {
   "cell_type": "markdown",
   "id": "501e7e5d-18b3-4dac-89dd-810ffcf55b5a",
   "metadata": {},
   "source": [
    "# Función combinatorio\n",
    "\n",
    "La función combinatorio calcula el coeficiente binomial de dos números dados, \\(n\\) y \\(k\\), utilizando una definición recursiva. Este coeficiente se representa comúnmente como \\(C(n, k)\\), y su valor se define como el número de combinaciones posibles de \\(n\\) elementos tomados de \\(k\\) en \\(k\\).\n",
    "\n",
    "## Parámetros\n",
    "\n",
    "- n: Número total de elementos en el conjunto.\n",
    "- k: Número de elementos a elegir del conjunto.\n",
    "\n",
    "## Cuerpo de la función\n",
    "\n",
    "La función se define mediante una estructura condicional cond, que evalúa varios casos:\n",
    "\n",
    "1. *Casos base*: Si k es 0 o k es igual a n, la función retorna 1. Esto se debe a que hay exactamente una forma de seleccionar 0 elementos de un conjunto (es decir, no seleccionar ninguno) y una forma de seleccionar todos los elementos de un conjunto (es decir, seleccionar el conjunto entero).\n",
    "\n",
    "2. *Caso recursivo*: En cualquier otro caso, la función se llama a sí misma dos veces, reflejando la propiedad recursiva del coeficiente binomial:\n",
    "\n",
    "    - \\(C(n-1, k-1)\\): Representa el número de combinaciones posibles cuando se elige un elemento específico del conjunto.\n",
    "    \n",
    "    - \\(C(n-1, k)\\): Representa el número de combinaciones posibles cuando no se elige un elemento específico del conjunto.\n",
    "\n",
    "    La suma de estos dos valores da el total de combinaciones posibles para \\(C(n, k)\\), ya que cada combinación se puede formar ya sea incluyendo o excluyendo un elemento particular del conjunto.\n",
    "\n",
    "## Ejemplo de uso\n",
    "\n",
    "Un ejemplo de cómo usar esta función en Racket sería:\n",
    "\n",
    "```scheme\n",
    "(combinatorio 5 3)\n"
   ]
  },
  {
   "cell_type": "code",
   "execution_count": 12,
   "id": "23856ee1-4666-423b-8929-142b7e133619",
   "metadata": {},
   "outputs": [],
   "source": [
    ";Ejercicio 1\n",
    "\n",
    "(define (combinatorio n k)\n",
    "  (cond\n",
    "    ((or (= k 0) (= k n)) 1) \n",
    "    (else (+ (combinatorio (- n 1) (- k 1))\n",
    "             (combinatorio (- n 1) k)))))"
   ]
  },
  {
   "cell_type": "code",
   "execution_count": 13,
   "id": "36cc519e-1f34-4233-a4cc-f47155657435",
   "metadata": {},
   "outputs": [
    {
     "data": {
      "text/html": [
       "<code>10</code>"
      ],
      "text/plain": [
       "10"
      ]
     },
     "execution_count": 13,
     "metadata": {},
     "output_type": "execute_result"
    }
   ],
   "source": [
    "(combinatorio 5 3)"
   ]
  },
  {
   "cell_type": "markdown",
   "id": "a4f661b4-b8f0-4e7c-a3fb-3a39df4766f3",
   "metadata": {},
   "source": [
    "# Determinación de Números Primos en Racket\n",
    "\n",
    "Este documento describe dos funciones relacionadas con la identificación de números primos: es-primo? para verificar si un número dado es primo y primos-en-rango para encontrar todos los números primos dentro de un rango específico.\n",
    "\n",
    "## Función es-primo?\n",
    "\n",
    "### Descripción\n",
    "\n",
    "La función es-primo? determina si un número entero \\(n\\) es un número primo.\n",
    "\n",
    "### Parámetros\n",
    "\n",
    "- n: El número a verificar.\n",
    "\n",
    "### Implementación\n",
    "\n",
    "La función utiliza un enfoque recursivo para determinar si un número es primo:\n",
    "\n",
    "1. *Caso base*: Si n es menor que 2, la función retorna #f (falso), ya que los números menores que 2 no son considerados primos.\n",
    "2. *Recursión*: Si n es mayor o igual a 2, se utiliza una función auxiliar primo? definida mediante letrec que comprueba si n es divisible por algún número entre 2 y \\(\\sqrt{n}\\). Si se encuentra un divisor, se retorna #f; de lo contrario, #t.\n",
    "\n",
    "# Función primos-en-rango\n",
    "\n",
    "La función primos-en-rango está diseñada para identificar y listar todos los números primos dentro de un rango específico, desde un número de inicio hasta un número final. Utiliza la función es-primo? para verificar la primalidad de cada número dentro del rango.\n",
    "\n",
    "## Parámetros\n",
    "\n",
    "- inicio: El límite inferior del rango de números a considerar, no incluido.\n",
    "- final: El límite superior del rango de números a considerar, incluido.\n",
    "\n",
    "## Implementación\n",
    "\n",
    "La implementación de primos-en-rango se realiza en dos pasos principales:\n",
    "\n",
    "1. *Generación del Rango*: Primero, se genera una lista de números desde inicio + 1 hasta final inclusivo. Esto se logra mediante una función auxiliar rango, que se define de manera recursiva dentro de primos-en-rango usando letrec. La función rango toma dos parámetros, i y f, que representan el inicio y el final del rango a generar, respectivamente. Si i es mayor que f, la lista está completa y se retorna vacía. De lo contrario, se consolida i a la lista generada recursivamente desde i + 1 hasta f.\n",
    "\n",
    "2. *Filtrado por Primalidad*: Una vez generada la lista de números, se utiliza la función filter junto con es-primo? para seleccionar solo aquellos números que son primos. filter aplica es-primo? a cada elemento de la lista, y solo los elementos para los cuales es-primo? retorna verdadero (#t) son incluidos en la lista final.\n",
    "\n",
    "## Ejemplo de Uso\n",
    "\n",
    "Suponiendo que la función es-primo? ya está definida, podemos encontrar todos los números primos entre 3 y 10 (3 no incluido, 10 incluido) con el siguiente llamado a primos-en-rango:\n",
    "\n",
    "```scheme\n",
    "(primos-en-rango 3 10)\n"
   ]
  },
  {
   "cell_type": "code",
   "execution_count": 14,
   "id": "890482d1-390c-4d92-bc61-12fc4591e061",
   "metadata": {},
   "outputs": [],
   "source": [
    ";Ejercicio 2\n",
    "\n",
    "(define (es-primo? n)\n",
    "  (if (< n 2)\n",
    "      #f\n",
    "      (letrec ((primo? (lambda (i)\n",
    "                          (cond [(> i (sqrt n)) #t]\n",
    "                                [(zero? (remainder n i)) #f]\n",
    "                                [else (primo? (+ i 1))]))))\n",
    "        (primo? 2))))\n",
    "\n",
    "\n",
    "\n",
    "(define (primos-en-rango inicio final)\n",
    "  (letrec ((rango (lambda (i f)\n",
    "                    (if (> i f)\n",
    "                        '()\n",
    "                        (cons i (rango (+ i 1) f))))))\n",
    "    (filter es-primo? (rango (+ inicio 1) final))))"
   ]
  },
  {
   "cell_type": "code",
   "execution_count": 15,
   "id": "8dc6de4e-a7f7-4d8b-a0ca-df7c86da313f",
   "metadata": {},
   "outputs": [
    {
     "data": {
      "text/html": [
       "<code>'(5 7)</code>"
      ],
      "text/plain": [
       "'(5 7)"
      ]
     },
     "execution_count": 15,
     "metadata": {},
     "output_type": "execute_result"
    }
   ],
   "source": [
    "(primos-en-rango 3 10)"
   ]
  },
  {
   "cell_type": "markdown",
   "id": "bf3760d1-fdbc-4a88-9f22-e6f2fc187b5a",
   "metadata": {},
   "source": [
    "# Función mcd\n",
    "\n",
    "La función mcd calcula el Máximo Común Divisor (MCD) de dos números enteros utilizando el algoritmo de Euclides. El MCD de dos números es el mayor número que divide a ambos sin dejar residuo.\n",
    "\n",
    "## Parámetros\n",
    "\n",
    "- a: Un número entero.\n",
    "- b: Otro número entero.\n",
    "\n",
    "## Implementación\n",
    "\n",
    "La función mcd implementa el algoritmo de Euclides de la siguiente manera:\n",
    "\n",
    "1. *Caso base*: Si b es igual a 0, la función retorna el valor absoluto de a. Esto se debe a que el algoritmo de Euclides se basa en la premisa de que el MCD de un número y 0 es el número mismo, pero se toma el valor absoluto para asegurar que el MCD sea siempre un número positivo, independientemente de si a o b son negativos.\n",
    "\n",
    "2. *Recursión*: Si b no es 0, la función se llama a sí misma, pero con b como el primer argumento y el resto de dividir a por b como el segundo argumento. Esta operación se repite hasta que el segundo argumento llega a 0, momento en el cual el primer argumento es el MCD de los números originales.\n",
    "\n",
    "## Ejemplo de Uso\n",
    "\n",
    "Para calcular el MCD de -36 y -48, se puede utilizar la función mcd de la siguiente manera:\n",
    "\n",
    "```scheme\n",
    "(mcd -36 -48)"
   ]
  },
  {
   "cell_type": "code",
   "execution_count": 16,
   "id": "b20aefda-2c98-44e8-88d6-4630c83f8c08",
   "metadata": {},
   "outputs": [],
   "source": [
    ";Ejercicio 3\n",
    "\n",
    "(define (mcd a b)\n",
    "  (if (= b 0)\n",
    "      (abs a) \n",
    "      (mcd b (modulo a b))))  \n",
    "\n"
   ]
  },
  {
   "cell_type": "code",
   "execution_count": 17,
   "id": "103bb665-86fd-4b9e-8979-e90bc50f812a",
   "metadata": {},
   "outputs": [
    {
     "data": {
      "text/html": [
       "<code>12</code>"
      ],
      "text/plain": [
       "12"
      ]
     },
     "execution_count": 17,
     "metadata": {},
     "output_type": "execute_result"
    }
   ],
   "source": [
    "(mcd -36 -48)"
   ]
  },
  {
   "cell_type": "markdown",
   "id": "a0a44664-adc9-4e35-a8f0-f35da5502b91",
   "metadata": {},
   "source": [
    "# Función busca\n",
    "\n",
    "La función busca está diseñada para determinar si un elemento específico está presente en una lista dada. Implementa una búsqueda lineal a través de la lista, comparando cada elemento con el valor buscado.\n",
    "\n",
    "## Parámetros\n",
    "\n",
    "- elemento: El valor que se busca en la lista.\n",
    "- lista: La lista en la cual se busca el elemento.\n",
    "\n",
    "## Implementación\n",
    "\n",
    "La función utiliza una estructura cond para manejar tres posibles casos en el proceso de búsqueda:\n",
    "\n",
    "1. *Lista vacía*: Si la lista está vacía ((null? lista)), significa que hemos llegado al final de la lista sin encontrar el elemento, por lo que la función retorna #f (falso).\n",
    "\n",
    "2. *Elemento encontrado*: Si el primer elemento de la lista ((first lista)) es igual al elemento buscado ((equal? elemento (first lista))), la función retorna #t (verdadero), indicando que el elemento se ha encontrado en la lista.\n",
    "\n",
    "3. *Búsqueda recursiva*: Si no se cumple ninguno de los casos anteriores, la función se llama a sí misma recursivamente con el mismo elemento y el resto de la lista ((rest lista)), omitiendo el primer elemento. Este proceso se repite hasta que se encuentre el elemento o hasta que la lista esté vacía.\n",
    "\n",
    "## Ejemplo de Uso\n",
    "\n",
    "Para buscar el número 4 en la lista (2 4 5), se puede utilizar la función busca de la siguiente manera:\n",
    "\n",
    "```scheme\n",
    "(busca 4 '(2 4 5))"
   ]
  },
  {
   "cell_type": "code",
   "execution_count": 47,
   "id": "601ab98c-e2a4-4a6d-9ca1-444bf1aae595",
   "metadata": {},
   "outputs": [],
   "source": [
    ";Ejercicio 4\n",
    "\n",
    "(define (busca elemento lista)\n",
    "  (cond\n",
    "    ((null? lista) #f)\n",
    "    ((equal? elemento (car lista)) #t)\n",
    "    (else (busca elemento (cdr lista)))))\n",
    "   "
   ]
  },
  {
   "cell_type": "code",
   "execution_count": 48,
   "id": "24c618c9-8c1e-4afb-bd55-4b60bbdf0dbf",
   "metadata": {},
   "outputs": [
    {
     "data": {
      "text/html": [
       "<code>#t</code>"
      ],
      "text/plain": [
       "#t"
      ]
     },
     "execution_count": 48,
     "metadata": {},
     "output_type": "execute_result"
    }
   ],
   "source": [
    "(busca 4 '(2 4 5))"
   ]
  },
  {
   "cell_type": "markdown",
   "id": "273cf490-a029-4151-948c-724ea913ed7e",
   "metadata": {},
   "source": [
    "# Función invierte\n",
    "\n",
    "La función invierte toma como entrada una lista y devuelve una nueva lista que es el resultado de invertir el orden de los elementos de la lista original. Utiliza un enfoque recursivo para lograr esta tarea.\n",
    "\n",
    "## Parámetros\n",
    "\n",
    "- lst: La lista de elementos que se desea invertir.\n",
    "\n",
    "## Implementación\n",
    "\n",
    "La implementación de invierte se basa en dos casos principales manejados mediante una estructura condicional if:\n",
    "\n",
    "1. *Caso base*: Si la lista está vacía ((null? lst)), la función retorna una lista vacía ('()). Este caso base es necesario para detener la recursión.\n",
    "\n",
    "2. *Caso recursivo*: Si la lista no está vacía, la función procede a:\n",
    "   - Llamar a sí misma recursivamente con el resto de la lista ((cdr lst)), omitiendo el primer elemento. Esto construye la lista invertida de todos los elementos excepto el primero.\n",
    "   - Luego, utiliza append para concatenar el resultado de la llamada recursiva con el primer elemento de la lista original ((car lst)) convertido en lista ((list (car lst))). Esto asegura que el primer elemento se mueva al final de la lista invertida.\n",
    "\n",
    "## Ejemplo de Uso\n",
    "\n",
    "Para invertir la lista (2 4 5), se puede utilizar la función invierte de la siguiente manera:\n",
    "\n",
    "```scheme\n",
    "(invierte '(2 4 5))"
   ]
  },
  {
   "cell_type": "code",
   "execution_count": 34,
   "id": "3a5a9b94-2006-4397-9bfc-ebec3f599ff0",
   "metadata": {},
   "outputs": [],
   "source": [
    ";Ejercicio 5\n",
    "\n",
    "(define (invierte lst)\n",
    "  (if (null? lst)                  \n",
    "      '()\n",
    "      (append (invierte (cdr lst)) \n",
    "              (list (car lst)))))"
   ]
  },
  {
   "cell_type": "code",
   "execution_count": 35,
   "id": "50be28b1-c2e9-4d1b-81d4-e59410311e82",
   "metadata": {},
   "outputs": [
    {
     "data": {
      "text/html": [
       "<code>'(5 4 2)</code>"
      ],
      "text/plain": [
       "'(5 4 2)"
      ]
     },
     "execution_count": 35,
     "metadata": {},
     "output_type": "execute_result"
    }
   ],
   "source": [
    "(invierte '(2 4 5))"
   ]
  },
  {
   "cell_type": "markdown",
   "id": "21276c31-d686-47c8-bc34-49abc5b25162",
   "metadata": {},
   "source": [
    "# Función elimina\n",
    "\n",
    "La función elimina está diseñada para eliminar todas las instancias de un elemento específico de una lista. Opera de manera recursiva, recorriendo la lista y construyendo una nueva lista que contiene todos los elementos de la original excepto aquellos que coinciden con el elemento especificado.\n",
    "\n",
    "## Parámetros\n",
    "\n",
    "- elemento: El valor que se desea eliminar de la lista.\n",
    "- lst: La lista de la cual se eliminarán las instancias del elemento.\n",
    "\n",
    "## Implementación\n",
    "\n",
    "La función hace uso de una estructura cond para manejar tres posibles situaciones:\n",
    "\n",
    "1. *Lista vacía*: Si lst está vacía ((null? lst)), se retorna una lista vacía. Este caso base detiene la recursión.\n",
    "\n",
    "2. *Elemento encontrado*: Si el primer elemento de la lista ((car lst)) es igual al elemento buscado, esa instancia se omite y la función se llama a sí misma recursivamente con el resto de la lista ((cdr lst)), efectivamente eliminando el elemento encontrado.\n",
    "\n",
    "3. *Elemento no encontrado*: En cualquier otro caso, se construye una nueva lista usando cons para unir el primer elemento de lst con el resultado de llamar a elimina recursivamente sobre el resto de la lista. Esto preserva el primer elemento y continúa la búsqueda/eliminación en el resto de la lista.\n",
    "\n",
    "## Ejemplo de Uso\n",
    "\n",
    "Para eliminar todas las instancias del número 4 de la lista (2 4 5 4), se puede utilizar la función elimina de la siguiente manera:\n",
    "\n",
    "```scheme\n",
    "(elimina 4 '(2 4 5 4))"
   ]
  },
  {
   "cell_type": "code",
   "execution_count": 36,
   "id": "35b06c4b-b331-4c92-ac07-a8fd4ae9c96e",
   "metadata": {},
   "outputs": [],
   "source": [
    ";Ejercicio 6\n",
    "\n",
    "(define (elimina elemento lst)\n",
    "  (cond\n",
    "    [(null? lst) '()]                              \n",
    "    [(equal? elemento (car lst))                   \n",
    "     (elimina elemento (cdr lst))]                 \n",
    "    [else (cons (car lst)                          \n",
    "                (elimina elemento (cdr lst)))]))"
   ]
  },
  {
   "cell_type": "code",
   "execution_count": 37,
   "id": "8293687d-6d3f-4889-a727-87de8a09e002",
   "metadata": {},
   "outputs": [
    {
     "data": {
      "text/html": [
       "<code>'(2 5)</code>"
      ],
      "text/plain": [
       "'(2 5)"
      ]
     },
     "execution_count": 37,
     "metadata": {},
     "output_type": "execute_result"
    }
   ],
   "source": [
    "(elimina 4 '(2 4 5 4))"
   ]
  },
  {
   "cell_type": "markdown",
   "id": "31618dcb-d0a5-484e-afa8-4c437d7f9dc8",
   "metadata": {},
   "source": [
    "# Función es-palindromo?\n",
    "\n",
    "La función es-palindromo? verifica si un número entero dado es un palíndromo. Un número palíndromo se lee igual hacia adelante y hacia atrás, como 121 o 12321.\n",
    "\n",
    "## Parámetros\n",
    "\n",
    "- n: El número entero a verificar.\n",
    "\n",
    "## Implementación\n",
    "\n",
    "Para determinar si un número es un palíndromo, la función utiliza una función auxiliar aux definida dentro de un letrec. Esta función auxiliar compara los dígitos en posiciones simétricas del número para verificar si son iguales en cada paso de la recursión.\n",
    "\n",
    "La función aux toma dos argumentos:\n",
    "- n: El número actual que está siendo verificado en cada paso recursivo.\n",
    "- d: Un divisor que se usa para obtener el dígito más significativo del número.\n",
    "\n",
    "El proceso para verificar si n es un palíndromo es como sigue:\n",
    "\n",
    "1. *Caso base*: Si n es menor que 10, la función retorna #t (verdadero) ya que cualquier número de un solo dígito es trivialmente un palíndromo.\n",
    "\n",
    "2. *Comparación de dígitos*: Si el dígito menos significativo de n ((modulo n 10)) es diferente al dígito más significativo (obtenido dividiendo n por d y tomando el cociente), la función retorna #f (falso).\n",
    "\n",
    "3. *Recursión*: Si los dígitos comparados son iguales, la función se llama a sí misma con una versión de n que tiene ambos dígitos (el más y el menos significativo) eliminados. Esto se logra tomando el módulo de n por d para eliminar el dígito más significativo, y luego dividiendo el resultado por 10 para eliminar el dígito menos significativo. El divisor d se reduce dividiéndolo por 100, ya que dos dígitos han sido eliminados de n.\n",
    "\n",
    "El valor inicial de d se calcula como 10 elevado a la potencia de la cantidad de dígitos en n menos uno, lo cual se logra con (expt 10 (floor (log n 10))).\n",
    "\n",
    "## Ejemplo de Uso\n",
    "\n",
    "Para verificar si el número 12321 es un palíndromo, se puede utilizar la función es-palindromo? de la siguiente manera:\n",
    "\n",
    "```scheme\n",
    "(es-palindromo? 12321)"
   ]
  },
  {
   "cell_type": "code",
   "execution_count": 38,
   "id": "979a46e6-56b1-4557-bd58-85153c05f33e",
   "metadata": {},
   "outputs": [],
   "source": [
    ";Ejercicio 7\n",
    "\n",
    "(define (es-palindromo? n)\n",
    "  (letrec ((aux (lambda (n d)\n",
    "                  (if (< n 10) #t\n",
    "                      (if (not (= (modulo n 10) (quotient n d)))\n",
    "                          #f\n",
    "                          (aux (quotient (modulo n d) 10) \n",
    "                               (quotient d 100)))))))\n",
    "    (aux n (expt 10 (floor (log n 10))))))"
   ]
  },
  {
   "cell_type": "code",
   "execution_count": 39,
   "id": "96ef3532-71e2-410e-9dd4-9cb89e1f1228",
   "metadata": {},
   "outputs": [
    {
     "data": {
      "text/html": [
       "<code>#t</code>"
      ],
      "text/plain": [
       "#t"
      ]
     },
     "execution_count": 39,
     "metadata": {},
     "output_type": "execute_result"
    }
   ],
   "source": [
    "(es-palindromo? 12321)"
   ]
  },
  {
   "cell_type": "markdown",
   "id": "67c22900-4411-42c6-8291-9931478d35aa",
   "metadata": {},
   "source": [
    "# Función SumaDigitos\n",
    "\n",
    "La función SumaDigitos calcula la suma de todos los dígitos de un número entero dado. Utiliza un enfoque recursivo para descomponer el número en sus dígitos y sumarlos individualmente.\n",
    "\n",
    "## Parámetros\n",
    "\n",
    "- x: El número entero cuyos dígitos se sumarán.\n",
    "\n",
    "## Implementación\n",
    "\n",
    "La función emplea una estructura cond para manejar dos casos:\n",
    "\n",
    "1. *Caso base*: Si x es menor que 10 (es decir, x tiene un solo dígito), la función retorna x directamente. Esto se debe a que un número de un solo dígito es igual a la suma de sus dígitos.\n",
    "\n",
    "2. *Caso recursivo*: Si x es igual o mayor que 10, la función suma el dígito menos significativo de x (obtenido con (modulo x 10)) con el resultado de llamar a SumaDigitos recursivamente en el resto de x (obtenido con (quotient x 10)). Esto efectivamente descompone el número, digito por digito, hasta que solo queda un dígito, aplicando el caso base.\n",
    "\n",
    "## Ejemplo de Uso\n",
    "\n",
    "Para calcular la suma de los dígitos del número 456, se puede utilizar la función SumaDigitos de la siguiente manera:\n",
    "\n",
    "```scheme\n",
    "(SumaDigitos 456)"
   ]
  },
  {
   "cell_type": "code",
   "execution_count": 40,
   "id": "ca317091-f9b0-4d4d-80b0-7610a49ef61b",
   "metadata": {},
   "outputs": [],
   "source": [
    ";Ejercicio 8\n",
    "\n",
    "(define (SumaDigitos x)\n",
    "    (cond\n",
    "        ((< x 10) x) \n",
    "        (else (+ (modulo x 10) (SumaDigitos (quotient x 10))))\n",
    "    )\n",
    ")"
   ]
  },
  {
   "cell_type": "code",
   "execution_count": 41,
   "id": "4bd7ed75-5de0-428f-a063-2f06afb9ef32",
   "metadata": {},
   "outputs": [
    {
     "data": {
      "text/html": [
       "<code>15</code>"
      ],
      "text/plain": [
       "15"
      ]
     },
     "execution_count": 41,
     "metadata": {},
     "output_type": "execute_result"
    }
   ],
   "source": [
    "(SumaDigitos 456)"
   ]
  },
  {
   "cell_type": "markdown",
   "id": "0ad66ca6-45ae-4d8c-a28f-1168a678fe51",
   "metadata": {},
   "source": [
    "# Función Binario\n",
    "\n",
    "La función Binario convierte un número entero dado en su representación binaria. Implementa un algoritmo recursivo para dividir el número por dos y construir la representación binaria a partir de los restos de estas divisiones.\n",
    "\n",
    "## Parámetros\n",
    "\n",
    "- n: El número entero no negativo que se convertirá a binario.\n",
    "\n",
    "## Implementación\n",
    "\n",
    "La función utiliza una estructura cond con dos ramas para manejar el proceso de conversión:\n",
    "\n",
    "1. *Caso base*: Si n es 0 o 1, la función retorna una lista conteniendo n. Esto cubre los casos base de la conversión binaria, donde estos valores representan directamente su propia representación binaria.\n",
    "\n",
    "2. *Caso recursivo*: Para cualquier otro valor de n, la función procede a:\n",
    "   - Llamar a sí misma recursivamente con la mitad de n ((quotient n 2)), trabajando hacia atrás para construir la representación binaria desde el dígito más significativo hasta el menos significativo.\n",
    "   - Utilizar append para concatenar el resultado de la llamada recursiva con el resto de la división de n por 2 ((remainder n 2)), que representa el dígito binario actual en la posición menos significativa.\n",
    "   \n",
    "La recursión continúa hasta que se alcanza el caso base, momento en el cual la función comienza a construir la representación binaria completa al unir todos los restos.\n",
    "\n",
    "## Ejemplo de Uso\n",
    "\n",
    "Para convertir el número decimal 123 a binario, se puede utilizar la función Binario de la siguiente manera:\n",
    "\n",
    "```scheme\n",
    "(Binario 123)"
   ]
  },
  {
   "cell_type": "code",
   "execution_count": 42,
   "id": "6cb8b046-8b88-4eb4-bd9a-bb6dd8ef4f56",
   "metadata": {},
   "outputs": [],
   "source": [
    ";Ejercicio 9\n",
    "\n",
    "(define (Binario n)\n",
    "  (cond\n",
    "    ((or (= n 0) (= n 1)) (list n)) \n",
    "    (else\n",
    "     (append (Binario (quotient n 2)) \n",
    "             (list (remainder n 2)))))) "
   ]
  },
  {
   "cell_type": "code",
   "execution_count": 43,
   "id": "6de233de-079f-4862-b9de-466b2bd0e62b",
   "metadata": {},
   "outputs": [
    {
     "data": {
      "text/html": [
       "<code>'(1 1 1 1 0 1 1)</code>"
      ],
      "text/plain": [
       "'(1 1 1 1 0 1 1)"
      ]
     },
     "execution_count": 43,
     "metadata": {},
     "output_type": "execute_result"
    }
   ],
   "source": [
    "(Binario 123)"
   ]
  },
  {
   "cell_type": "markdown",
   "id": "9f40333f-3b12-473e-bbd3-0311ebcb62ba",
   "metadata": {},
   "source": [
    "# Función Leibniz para la Aproximación de Pi\n",
    "\n",
    "La función Leibniz implementa la fórmula de la serie de Leibniz para calcular una aproximación del valor de Pi. La serie de Leibniz para Pi es una serie infinita que converge lentamente a Pi y se define como:\n",
    "\n",
    "$$\\frac{\\pi}{4} = 1 - \\frac{1}{3} + \\frac{1}{5} - \\frac{1}{7} + \\frac{1}{9} - ...$$\n",
    "\n",
    "## Parámetros\n",
    "\n",
    "- x: El índice actual de la serie. Generalmente, este valor se inicia en 0.\n",
    "- n: El número total de términos de la serie a sumar para la aproximación. Un valor más alto de n resulta en una mejor aproximación.\n",
    "\n",
    "## Implementación\n",
    "\n",
    "La función utiliza una estructura cond para manejar diferentes casos en la recursión:\n",
    "\n",
    "1. *Caso base para n*: Si n es igual a 0, la función retorna 4. Esto representa un entendimiento erróneo de la fórmula de Leibniz y parece ser un intento de simplificar el caso base, pero en realidad, este caso no contribuye correctamente a la serie.\n",
    "\n",
    "2. *Terminación de la sucesión*: Si x es igual a n + 1, la función retorna 0, indicando el fin de la recursión. Esta condición de parada previene la recursión infinita.\n",
    "\n",
    "3. *Primer término de la serie*: Cuando x es 0, se multiplica el resultado de la serie por 4. Este caso intenta ajustar la fórmula de Leibniz al multiplicar la suma de la serie por 4 para aproximar Pi.\n",
    "\n",
    "4. *Cálculo recursivo de la serie*: En los demás casos, la función verifica si x es par o impar para decidir si suma o resta el término actual de la serie, respectivamente. Cada término de la serie se calcula como 1 / (1 + 2 * x), alternando el signo para cada término. Luego, se procede a la siguiente iteración incrementando x en 1.\n",
    "\n",
    "## Ejemplo de Uso\n",
    "\n",
    "Para calcular una aproximación de Pi sumando los primeros 1000 términos de la serie de Leibniz, se puede utilizar la función Leibniz de la siguiente manera:\n",
    "\n",
    "```scheme\n",
    "(Leibniz 0 1000)"
   ]
  },
  {
   "cell_type": "code",
   "execution_count": 44,
   "id": "1fd2fa2f-58dd-423c-b76a-194861e28b33",
   "metadata": {},
   "outputs": [],
   "source": [
    ";Ejercicio 10\n",
    "\n",
    "(define (Leibniz x n)\n",
    "  (cond\n",
    "    ((equal? 0 n) 4) \n",
    "    ((equal? x (+ n 1)) 0)  \n",
    "    ((equal? x 0) (* 4 (+ 1 (Leibniz (+ x 1) n))))  \n",
    "    (else (if (even? x) \n",
    "              (+ (/ 1.0 (+ 1 (* 2 x))) (Leibniz (+ x 1) n))  \n",
    "              (+ (/ -1.0 (+ 1 (* 2 x))) (Leibniz (+ x 1) n)))))  \n",
    "  )"
   ]
  },
  {
   "cell_type": "code",
   "execution_count": 45,
   "id": "815683c9-5450-4f2c-8cec-590d61eaff0d",
   "metadata": {},
   "outputs": [
    {
     "data": {
      "text/html": [
       "<code>3.1425916543395434</code>"
      ],
      "text/plain": [
       "3.1425916543395434"
      ]
     },
     "execution_count": 45,
     "metadata": {},
     "output_type": "execute_result"
    }
   ],
   "source": [
    "(Leibniz 0 1000)"
   ]
  }
 ],
 "metadata": {
  "kernelspec": {
   "display_name": "Racket",
   "language": "racket",
   "name": "racket"
  },
  "language_info": {
   "codemirror_mode": "scheme",
   "file_extension": ".rkt",
   "mimetype": "text/x-racket",
   "name": "Racket",
   "pygments_lexer": "racket",
   "version": "8.12"
  }
 },
 "nbformat": 4,
 "nbformat_minor": 5
}
